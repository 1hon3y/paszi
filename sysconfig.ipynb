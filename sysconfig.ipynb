{
 "cells": [
  {
   "cell_type": "markdown",
   "metadata": {},
   "source": [
    "# Sysconfig: управление конфигурацией интерпретатора во время компиляции"
   ]
  },
  {
   "cell_type": "markdown",
   "metadata": {},
   "source": [
    "Средства, входящие в модуль __sysconfig__, были перенесены из модуля __distutils__ c целью выделения их в виде независимого модуля. Этот модуль включает функции, которые определяют настройки, используемые для компиляции и установки текущего интерпретатора."
   ]
  },
  {
   "cell_type": "markdown",
   "metadata": {},
   "source": [
    "## Конфигурационные переменные"
   ]
  },
  {
   "cell_type": "markdown",
   "metadata": {},
   "source": [
    "Доступ к конфигурационным параметрам времени сборки предоставляют две функции: __get_config_vars()__ и __get_config_var()__. Функция __get_config_vars()__ возвращает словарь, сопоставляющий имена конфигурационных переменных c их значениями."
   ]
  },
  {
   "cell_type": "code",
   "execution_count": 2,
   "metadata": {},
   "outputs": [
    {
     "name": "stdout",
     "output_type": "stream",
     "text": [
      "Found 21 configuration settings\n",
      "\n",
      "Some highlights:\n",
      "\n",
      " Installation prefixes:\n",
      " prefix=C:\\Users\\esiki\\anaconda3\n",
      " exec_prefix=C:\\Users\\esiki\\anaconda3\n",
      "\n",
      " Version info:\n",
      " py_version=3.8.3\n",
      " py_version_short=3.8\n",
      " py_version_nodot=38\n",
      "\n",
      " Base directories:\n",
      " base=C:\\Users\\esiki\\anaconda3\n",
      " platbase=C:\\Users\\esiki\\anaconda3\n",
      " userbase=C:\\Users\\esiki\\AppData\\Roaming\\Python\n",
      " srcdir=C:\\Users\\esiki\\anaconda3\n",
      "\n",
      " Compiler and linker flags:\n"
     ]
    },
    {
     "ename": "KeyError",
     "evalue": "'LDFLAGS'",
     "output_type": "error",
     "traceback": [
      "\u001b[1;31m---------------------------------------------------------------------------\u001b[0m",
      "\u001b[1;31mKeyError\u001b[0m                                  Traceback (most recent call last)",
      "\u001b[1;32m<ipython-input-2-da1ccdb0ecbf>\u001b[0m in \u001b[0;36m<module>\u001b[1;34m\u001b[0m\n\u001b[0;32m     22\u001b[0m \u001b[1;33m\u001b[0m\u001b[0m\n\u001b[0;32m     23\u001b[0m \u001b[0mprint\u001b[0m\u001b[1;33m(\u001b[0m\u001b[1;34m'\\n Compiler and linker flags:'\u001b[0m\u001b[1;33m)\u001b[0m\u001b[1;33m\u001b[0m\u001b[1;33m\u001b[0m\u001b[0m\n\u001b[1;32m---> 24\u001b[1;33m \u001b[0mprint\u001b[0m\u001b[1;33m(\u001b[0m\u001b[1;34m' LDFLAGS={LDFLAGS}'\u001b[0m\u001b[1;33m.\u001b[0m\u001b[0mformat\u001b[0m\u001b[1;33m(\u001b[0m\u001b[1;33m**\u001b[0m\u001b[0mconfig_values\u001b[0m\u001b[1;33m)\u001b[0m\u001b[1;33m)\u001b[0m\u001b[1;33m\u001b[0m\u001b[1;33m\u001b[0m\u001b[0m\n\u001b[0m\u001b[0;32m     25\u001b[0m \u001b[0mprint\u001b[0m\u001b[1;33m(\u001b[0m\u001b[1;34m' BASECFLAGS={BASECFLAGS}'\u001b[0m\u001b[1;33m.\u001b[0m\u001b[0mformat\u001b[0m\u001b[1;33m(\u001b[0m\u001b[1;33m**\u001b[0m\u001b[0mconfig_values\u001b[0m\u001b[1;33m)\u001b[0m\u001b[1;33m)\u001b[0m\u001b[1;33m\u001b[0m\u001b[1;33m\u001b[0m\u001b[0m\n\u001b[0;32m     26\u001b[0m \u001b[0mprint\u001b[0m\u001b[1;33m(\u001b[0m\u001b[1;34m' Py_ENABLE_SHARED={Py_ENABLE_SHARED}'\u001b[0m\u001b[1;33m.\u001b[0m\u001b[0mformat\u001b[0m\u001b[1;33m(\u001b[0m\u001b[1;33m**\u001b[0m\u001b[0mconfig_values\u001b[0m\u001b[1;33m)\u001b[0m\u001b[1;33m)\u001b[0m\u001b[1;33m\u001b[0m\u001b[1;33m\u001b[0m\u001b[0m\n",
      "\u001b[1;31mKeyError\u001b[0m: 'LDFLAGS'"
     ]
    }
   ],
   "source": [
    "import sysconfig\n",
    "\n",
    "config_values = sysconfig.get_config_vars()\n",
    "print('Found {} configuration settings'.format(len(config_values.keys())))\n",
    "\n",
    "print('\\nSome highlights:\\n')\n",
    "\n",
    "print(' Installation prefixes:')\n",
    "print(' prefix={prefix}'.format(**config_values))\n",
    "print(' exec_prefix={exec_prefix}'.format(**config_values))\n",
    "      \n",
    "print('\\n Version info:')\n",
    "print(' py_version={py_version}'.format(**config_values))\n",
    "print(' py_version_short={py_version_short}'.format(**config_values))\n",
    "print(' py_version_nodot={py_version_nodot}'.format(**config_values))\n",
    "      \n",
    "print('\\n Base directories:')\n",
    "print(' base={base}'.format(**config_values))\n",
    "print(' platbase={platbase}'.format(**config_values))\n",
    "print(' userbase={userbase}'.format(**config_values))\n",
    "print(' srcdir={srcdir}'.format(**config_values))\n",
    "\n",
    "print('\\n Compiler and linker flags:')\n",
    "print(' LDFLAGS={LDFLAGS}'.format(**config_values))\n",
    "print(' BASECFLAGS={BASECFLAGS}'.format(**config_values))\n",
    "print(' Py_ENABLE_SHARED={Py_ENABLE_SHARED}'.format(**config_values))"
   ]
  },
  {
   "cell_type": "markdown",
   "metadata": {},
   "source": [
    "Уровень детализации, доступный через API __sysconfig__, зависит от платформы, на которой выполняется программа. В случае __POSIX-систем__, таких как __Linux__ и __OS X__, выполняется анализ файла __makefile__, используемого для сборки интерпретатора, и заголовочного файла __config.h__, сгенерированного для сборки, и все переменные, обнаруженные в каждом файле, станоятся доступными. В случае таких систем, как __Windows__, которые не являются __POSIX-системами__, состав параметров ограничивается несколькими путями, расширениями имен файлов и информацией о версии."
   ]
  },
  {
   "cell_type": "raw",
   "metadata": {},
   "source": [
    "print('\\n Compiler and linker flags:')\n",
    "print(' LDFLAGS={LDFLAGS}'.format(**config_values))\n",
    "print(' BASECFLAGS={BASECFLAGS}'.format(**config_values))\n",
    "print(' Py_ENABLE_SHARED={Py_ENABLE_SHARED}'.format(**config_values))"
   ]
  },
  {
   "cell_type": "markdown",
   "metadata": {},
   "source": [
    "В результате передачи имен переменных функции __get_config_vars()__ возвращаемое значение превращается в список, который создается путем присоединения значений всех этих переменных."
   ]
  },
  {
   "cell_type": "code",
   "execution_count": 18,
   "metadata": {},
   "outputs": [
    {
     "name": "stdout",
     "output_type": "stream",
     "text": [
      "Base directories:\n",
      "  C:\\Users\\esiki\\anaconda3\n",
      "  C:\\Users\\esiki\\anaconda3\n",
      "  C:\\Users\\esiki\\AppData\\Roaming\\Python\n"
     ]
    }
   ],
   "source": [
    "import sysconfig\n",
    "\n",
    "bases = sysconfig.get_config_vars('base', 'platbase', 'userbase')\n",
    "print('Base directories:')\n",
    "for b in bases:\n",
    "    print(' ', b)"
   ]
  },
  {
   "cell_type": "markdown",
   "metadata": {},
   "source": [
    "Если необходимо значение лишь одного конфигурационного параметра, его можно получить c помощью функции __get_config_var()__."
   ]
  },
  {
   "cell_type": "code",
   "execution_count": 19,
   "metadata": {},
   "outputs": [
    {
     "name": "stdout",
     "output_type": "stream",
     "text": [
      "User base directory: C:\\Users\\esiki\\AppData\\Roaming\\Python\n",
      "Unknown variable : None\n"
     ]
    }
   ],
   "source": [
    "import sysconfig\n",
    "print('User base directory:', sysconfig.get_config_var('userbase'))\n",
    "print('Unknown variable :', sysconfig.get_config_var('NoSuchVariable'))"
   ]
  },
  {
   "cell_type": "markdown",
   "metadata": {},
   "source": [
    "Если найти переменную не удается, функция __get_config_var()__ не возбуждает исключение, а возвращает значение __None__."
   ]
  },
  {
   "cell_type": "markdown",
   "metadata": {},
   "source": [
    "## Пути к каталогам установки"
   ]
  },
  {
   "cell_type": "markdown",
   "metadata": {},
   "source": [
    "Модуль __sysconfig__ в основном предназначен для использования инструментами установки и создания пакетов. Как следствие, хоть он и предоставляет доступ к общим параметрам конфигурации, таким как версия интерпретатора, он фокусируется на информации, необходимой для определения местонахождения компонентов дистрибутива Python, установленных в данный момент в системе.\n",
    "Местоположения, используемые для установки пакета, зависят от используемой схемы.\n",
    "\n",
    "\n",
    "Схема — это набор платформозависимых каталогов, заданных но умолчанию и организованных в соответствии со стандартами и рекомендациями по созданию пакетов для данной платформы. Для установки в расположения, доступные всему сайту, или в личные каталоги, принадлежащие конкретным пользователям, используются различные схемы. Полный набор схем можно получить c помощью\n",
    "функции __get_scheme_names()__."
   ]
  },
  {
   "cell_type": "code",
   "execution_count": 1,
   "metadata": {},
   "outputs": [
    {
     "name": "stdout",
     "output_type": "stream",
     "text": [
      "nt\n",
      "nt_user\n",
      "osx_framework_user\n",
      "posix_home\n",
      "posix_prefix\n",
      "posix_user\n"
     ]
    }
   ],
   "source": [
    "import sysconfig\n",
    "\n",
    "for name in sysconfig.get_scheme_names():\n",
    "    print(name)"
   ]
  },
  {
   "cell_type": "markdown",
   "metadata": {},
   "source": [
    "Понятия “текущая схема” как такового не существует. Вместо этого используемая по умолчанию схема зависит от опций, предоставленных программе установки. Если текущая система выполняется под управлением POSIX-совместимой операционной системы, то по умолчанию используется схема __posix_prefix__. В противном случае схемой по умолчанию является имя операционной системы, определенное в атрибуте __os.name__.\n",
    "\n",
    "\n",
    "Каждая схема определяет набор путей, используемых для установки пакетов. Для получения списка имен этих путей следует использовать функцию __get_path_names()__."
   ]
  },
  {
   "cell_type": "code",
   "execution_count": 2,
   "metadata": {},
   "outputs": [
    {
     "name": "stdout",
     "output_type": "stream",
     "text": [
      "stdlib\n",
      "platstdlib\n",
      "purelib\n",
      "platlib\n",
      "include\n",
      "scripts\n",
      "data\n"
     ]
    }
   ],
   "source": [
    "import sysconfig\n",
    "\n",
    "for name in sysconfig.get_path_names():\n",
    "    print(name)"
   ]
  },
  {
   "cell_type": "markdown",
   "metadata": {},
   "source": [
    "__stdlib__ - Файлы стандартной библиотеки Python, не зависящие от платформы\n",
    "\n",
    "\n",
    "__platstdlib__ - Файлы стандартной библиотеки Python, зависящие от платформы\n",
    "\n",
    "\n",
    "__platlib__ - Файлы, зависящие от сайта и платформы\n",
    "\n",
    "\n",
    "__purelib__ - Файлы, зависящие от сайта, но не зависящие от платформы\n",
    "\n",
    "\n",
    "__include__ - Заголовочные файлы, не зависящие от платформы\n",
    "\n",
    "\n",
    "__platinclude__ - Заголовочные файлы, зависящие от платформы\n",
    "\n",
    "\n",
    "__scripts__ - Исполняемые файлы сценариев\n",
    "\n",
    "\n",
    "__data__ - Файлы данных"
   ]
  },
  {
   "cell_type": "markdown",
   "metadata": {},
   "source": [
    "Для получения отдельного пути следует использовать функцию __get_path()__."
   ]
  },
  {
   "cell_type": "code",
   "execution_count": 7,
   "metadata": {},
   "outputs": [
    {
     "name": "stdout",
     "output_type": "stream",
     "text": [
      "posix_prefix\n",
      "============\n",
      "purelib =  C:\\Users\\esiki\\anaconda3\\lib\\python3.8\\site-packages\n",
      "\n",
      "posix_user\n",
      "==========\n",
      "purelib =  C:\\Users\\esiki\\AppData\\Roaming\\Python\\lib\\python3.8\\site-packages\n",
      "\n"
     ]
    }
   ],
   "source": [
    "import sysconfig\n",
    "import pprint\n",
    "\n",
    "for scheme in ['posix_prefix', 'posix_user']:\n",
    "    print(scheme)\n",
    "    print('=' * len(scheme))\n",
    "    print('purelib = ', sysconfig.get_path(name='purelib', scheme=scheme))\n",
    "\n",
    "    print()"
   ]
  },
  {
   "cell_type": "markdown",
   "metadata": {},
   "source": [
    "Данный пример демонстрирует различия между путями, действующими в рамках всей системы и используемыми для схемы __posix_prefix__, и специфическими для пользователя значениями для схемы __posix_user__."
   ]
  },
  {
   "cell_type": "markdown",
   "metadata": {},
   "source": [
    "## Информация о версии и платформе Python"
   ]
  },
  {
   "cell_type": "markdown",
   "metadata": {},
   "source": [
    "В то время как модуль __sys__ включает некоторые базовые средства идентификации платформы, он недостаточно специфичен для того, чтобы его можно было использовать для установки двоичных пакетов, поскольку атрибут __sys.platform__ не всегда включает информацию об\n",
    "архитектуре оборудования, размерах инструкций и других значениях, которые влияют на совместимость двоичных библиотек. Для получения более точного спецификатора платформы следует использовать функцию __get_platform()__."
   ]
  },
  {
   "cell_type": "code",
   "execution_count": 8,
   "metadata": {},
   "outputs": [
    {
     "name": "stdout",
     "output_type": "stream",
     "text": [
      "win-amd64\n"
     ]
    }
   ],
   "source": [
    "import sysconfig\n",
    "\n",
    "print(sysconfig.get_platform())"
   ]
  },
  {
   "cell_type": "markdown",
   "metadata": {},
   "source": [
    "Для удобства версия интерпретатора из атрибута __sys.version_info__ также доступна через функцию __get_python_version()__ в модуле __sysconfig__."
   ]
  },
  {
   "cell_type": "code",
   "execution_count": 9,
   "metadata": {},
   "outputs": [
    {
     "name": "stdout",
     "output_type": "stream",
     "text": [
      "sysconfig.get_python_version(): 3.8\n",
      "\n",
      "sys.version_info:\n",
      " major : 3\n",
      " minor : 8\n",
      " micro : 3\n",
      " releaselevel: final\n",
      " serial : 0\n"
     ]
    }
   ],
   "source": [
    "import sysconfig\n",
    "import sys\n",
    "\n",
    "print('sysconfig.get_python_version():', sysconfig.get_python_version())\n",
    "print('\\nsys.version_info:')\n",
    "print(' major :', sys.version_info.major)\n",
    "print(' minor :', sys.version_info.minor)\n",
    "print(' micro :', sys.version_info.micro)\n",
    "print(' releaselevel:', sys.version_info.releaselevel)\n",
    "print(' serial :', sys.version_info.serial)"
   ]
  },
  {
   "cell_type": "markdown",
   "metadata": {},
   "source": [
    "Функция __get_python_version()__ возвращает строку, которую можно использовать для создания пути, специфического для версии."
   ]
  }
 ],
 "metadata": {
  "kernelspec": {
   "display_name": "Python 3",
   "language": "python",
   "name": "python3"
  },
  "language_info": {
   "codemirror_mode": {
    "name": "ipython",
    "version": 3
   },
   "file_extension": ".py",
   "mimetype": "text/x-python",
   "name": "python",
   "nbconvert_exporter": "python",
   "pygments_lexer": "ipython3",
   "version": "3.8.3"
  }
 },
 "nbformat": 4,
 "nbformat_minor": 4
}
