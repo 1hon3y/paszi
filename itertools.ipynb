{
 "cells": [
  {
   "cell_type": "markdown",
   "metadata": {},
   "source": [
    "# itertools: функции-итераторы"
   ]
  },
  {
   "cell_type": "markdown",
   "metadata": {},
   "source": [
    "Модуль __itertools__ включает ряд функций, предназначенных для обработки последовательностей. Их прообразом послужили аналогичные средства таких языков функционального программирования, как ___Clojure, Haskell, APL и SML___.\n",
    "\n",
    "Указанные функции предназначены для повышения эффективности использования памяти и ускорения выполнения операций. Их также можно использовать совместно для создания более сложных итерационных алгоритмов. Основанный на итераторах код обеспечивает лучшие характеристики использования памяти, чем код, основанный на использовании списков. Поскольку итератор не возвращает данные до тех пор, пока они не потребуются, отпадает\n",
    "необходимость в хранении всего набора данных в памяти. Такая модель отложенной обработки сглаживает отрицательное влияние подкачки и других побочных эффектов, связанных c обработкой больших объемов данных, на производительность."
   ]
  },
  {
   "cell_type": "markdown",
   "metadata": {},
   "source": [
    "## Объединение и разделение итераторов"
   ]
  },
  {
   "cell_type": "markdown",
   "metadata": {},
   "source": [
    "Функция __chain()__ получает несколько итераторов в качестве аргументов и создает итератор, который поочередно обрабатывает все входные итерируемые объекты, возвращая их элементы, как если бы они принадлежали одному входному итератору.\n",
    "\n",
    "Эта функция упрощает обработку нескольких последовательностей, не требуя предварительного конструирования объединенного списка."
   ]
  },
  {
   "cell_type": "code",
   "execution_count": 28,
   "metadata": {},
   "outputs": [
    {
     "name": "stdout",
     "output_type": "stream",
     "text": [
      "1 2 3 a b c "
     ]
    }
   ],
   "source": [
    "from itertools import *\n",
    "\n",
    "for i in chain([1, 2, 3], ['a', 'b', 'c']):\n",
    "    print(i, end=' ') "
   ]
  },
  {
   "cell_type": "markdown",
   "metadata": {},
   "source": [
    "В тех случаях, когда объединяемые итерируемые объекты неизвестны заранее или должны определяться в режиме отложенных вычислений, для конструирования цепочки итераторов можно использовать функцию __chain.from_iterable()__."
   ]
  },
  {
   "cell_type": "code",
   "execution_count": 8,
   "metadata": {},
   "outputs": [
    {
     "name": "stdout",
     "output_type": "stream",
     "text": [
      "1 2 3 a b c \n"
     ]
    }
   ],
   "source": [
    "from itertools import *\n",
    "\n",
    "\n",
    "def make_iterables_to_chain():\n",
    "    yield [1, 2, 3]\n",
    "    yield ['a', 'b', 'c']\n",
    "\n",
    "\n",
    "for i in chain.from_iterable(make_iterables_to_chain()):\n",
    "    print(i, end=' ') "
   ]
  },
  {
   "cell_type": "markdown",
   "metadata": {},
   "source": [
    "Встроенная функция __zip()__ возвращает итератор, объединяющий элементы нескольких итераторов в кортежи."
   ]
  },
  {
   "cell_type": "code",
   "execution_count": 30,
   "metadata": {},
   "outputs": [
    {
     "name": "stdout",
     "output_type": "stream",
     "text": [
      "(1, 'a')\n",
      "(2, 'b')\n",
      "(3, 'c')\n",
      "(436, 'fdh')\n"
     ]
    }
   ],
   "source": [
    "for i in zip([1, 2, 3,436,436347], ['a', 'b', 'c', 'fdh']):\n",
    "    print(i)"
   ]
  },
  {
   "cell_type": "markdown",
   "metadata": {},
   "source": [
    "Как и в случае других функций, входящих в состав этого модуля, возвращаемое значение представляет собой итерируемый объект, выдающий значения по одному за раз.\n",
    "\n",
    "Функция __zip()__ прекращает работу, как только исчерпывается один из входных итераторов. Чтобы обеспечить обработку всех входных элементов даже в тех случаях, когда итераторы вырабатывают разное количество значений, используйте функцию __zip_longest()__."
   ]
  },
  {
   "cell_type": "code",
   "execution_count": 32,
   "metadata": {},
   "outputs": [
    {
     "name": "stdout",
     "output_type": "stream",
     "text": [
      "zip stops early:\n",
      "[(0, 0), (1, 1)]\n",
      "\n",
      "zip_longest processes all of the values:\n",
      "[(0, 0), (1, 1), (2, 0)]\n"
     ]
    }
   ],
   "source": [
    "from itertools import *\n",
    "\n",
    "r1 = range(3)\n",
    "r2 = range(2)\n",
    "\n",
    "print('zip stops early:')\n",
    "print(list(zip(r1, r2)))\n",
    "\n",
    "r1 = range(3)\n",
    "r2 = range(2)\n",
    "\n",
    "print('\\nzip_longest processes all of the values:')\n",
    "print(list(zip_longest(r1, r2,fillvalue=0)))"
   ]
  },
  {
   "cell_type": "markdown",
   "metadata": {},
   "source": [
    "По умолчанию функция __zip_longest()__ подставляет значение None вместо отсутствующих значений. Чтобы определить другое подстановочное значение, используйте аргумент __fillvalue__.\n",
    "\n",
    "Функция __islice()__ создает итератор, который возвращает итератор, выдающий входные элементы в соответствии c заданными индексами."
   ]
  },
  {
   "cell_type": "code",
   "execution_count": 10,
   "metadata": {},
   "outputs": [
    {
     "name": "stdout",
     "output_type": "stream",
     "text": [
      "Stop at 5:\n",
      "0 1 2 3 4 \n",
      "\n",
      "Start at 5, Stop at 10:\n",
      "5 6 7 8 9 \n",
      "\n",
      "By tens to 100:\n",
      "0 10 20 30 40 50 60 70 80 90 \n",
      "\n"
     ]
    }
   ],
   "source": [
    "from itertools import *\n",
    "\n",
    "print('Stop at 5:')\n",
    "for i in islice(range(100), 5):\n",
    "    print(i, end=' ')\n",
    "print('\\n')\n",
    "\n",
    "print('Start at 5, Stop at 10:')\n",
    "for i in islice(range(100), 5, 10):\n",
    "    print(i, end=' ')\n",
    "print('\\n')\n",
    "\n",
    "print('By tens to 100:')\n",
    "for i in islice(range(100), 0, 100, 10):\n",
    "    print(i, end=' ')\n",
    "print('\\n')"
   ]
  },
  {
   "cell_type": "markdown",
   "metadata": {},
   "source": [
    "Функция __islice()__ имеет те же аргументы, что и оператор взятия среза списка: __start, stop__ и __step__. Аргументы __start__ и __step__ — необязательные.\n",
    "\n",
    "Функция __tee()__ позволяет создать несколько независимых итераторов (по умолчанию — 2) на основе одного и того же итерируемого объекта."
   ]
  },
  {
   "cell_type": "code",
   "execution_count": 11,
   "metadata": {},
   "outputs": [
    {
     "name": "stdout",
     "output_type": "stream",
     "text": [
      "i1: [0, 1, 2, 3, 4]\n",
      "i2: [0, 1, 2, 3, 4]\n"
     ]
    }
   ],
   "source": [
    "from itertools import *\n",
    "\n",
    "r = islice(count(), 5)\n",
    "i1, i2 = tee(r)\n",
    "\n",
    "print('i1:', list(i1))\n",
    "print('i2:', list(i2))"
   ]
  },
  {
   "cell_type": "markdown",
   "metadata": {},
   "source": [
    "Семантика функции __tee()__ аналогична семантике утилиты __tee__ в ___Unix___, которая повторяет значения, читаемые из входного потока, и записывает их в именованный файл или стандартный вывод. Итераторы, возвращаемые функцией __tee()__, могут быть использованы c целью передачи одного и того же набора данных нескольким алгоритмам для их параллельной обработки.\n",
    "\n",
    "Новые итераторы, созданные функцией __tee()__, разделяют данные c исходным итератором, и поэтому после их создания исходный итератор использоваться не должен."
   ]
  },
  {
   "cell_type": "code",
   "execution_count": 12,
   "metadata": {},
   "outputs": [
    {
     "name": "stdout",
     "output_type": "stream",
     "text": [
      "r: 0 1 2 \n",
      "i1: [3, 4]\n",
      "i2: [3, 4]\n"
     ]
    }
   ],
   "source": [
    "from itertools import *\n",
    "\n",
    "r = islice(count(), 5)\n",
    "i1, i2 = tee(r)\n",
    "\n",
    "print('r:', end=' ')\n",
    "for i in r:\n",
    "    print(i, end=' ')\n",
    "    if i > 1:\n",
    "        break\n",
    "print()\n",
    "\n",
    "print('i1:', list(i1))\n",
    "print('i2:', list(i2))"
   ]
  },
  {
   "cell_type": "markdown",
   "metadata": {},
   "source": [
    "Значения, обработанные ранее исходным итератором, не будут возвращаться вновь созданными итераторами."
   ]
  },
  {
   "cell_type": "markdown",
   "metadata": {},
   "source": [
    "## Преобразование входных данных"
   ]
  },
  {
   "cell_type": "markdown",
   "metadata": {},
   "source": [
    "Встроенная функция __map()__ создает итератор, который вызывает заданную преобразующую функцию c аргументами, определяемыми значениями входных\n",
    "итераторов, и возвращает результаты. Этот процесс прекращается после исчерпания значений любого из входных итераторов."
   ]
  },
  {
   "cell_type": "code",
   "execution_count": 33,
   "metadata": {},
   "outputs": [
    {
     "name": "stdout",
     "output_type": "stream",
     "text": [
      "Doubles:\n",
      "0\n",
      "2\n",
      "4\n",
      "6\n",
      "8\n",
      "\n",
      "Multiples:\n",
      "0 * 5 = 0\n",
      "1 * 6 = 6\n",
      "2 * 7 = 14\n",
      "3 * 8 = 24\n",
      "4 * 9 = 36\n",
      "\n",
      "Stopping:\n",
      "(0, 0, 0)\n",
      "(1, 1, 1)\n",
      "(2, 2, 4)\n",
      "(3, 3, 9)\n",
      "(4, 4, 16)\n"
     ]
    }
   ],
   "source": [
    "def times_two(x):\n",
    "    return 2 * x\n",
    "\n",
    "\n",
    "def multiply(x, y):\n",
    "    return (x, y, x * y)\n",
    "\n",
    "\n",
    "print('Doubles:')\n",
    "for i in map(times_two, range(5)):\n",
    "    print(i)\n",
    "\n",
    "print('\\nMultiples:')\n",
    "r1 = range(5)\n",
    "r2 = range(5, 10)\n",
    "for i in map(multiply, r1, r2):\n",
    "    print('{:d} * {:d} = {:d}'.format(*i))\n",
    "\n",
    "print('\\nStopping:')\n",
    "r1 = range(5)\n",
    "r2 = range(5)\n",
    "for i in map(multiply, r1, r2):\n",
    "    print(i)"
   ]
  },
  {
   "cell_type": "markdown",
   "metadata": {},
   "source": [
    "В первом примере лямбда-функция умножает входные значения на 2. Во втором примере лямбда-функция перемножает пару аргументов, получаемых из независимых итераторов, и возвращает кортеж, включающий исходные аргументы и вычисленное значение. Выполнение третьего примера прекращается после создания двух кортежей ввиду исчерпания второго диапазона.\n",
    "\n",
    "Функция __starmap()__ аналогична функции __map()__, но имеет всего два аргумента: лямбда-функцию и последовательность кортежей, задаваемую c помощью синтаксиса __*__, в которой каждый кортеж предоставляет аргументы лямбда-функции."
   ]
  },
  {
   "cell_type": "code",
   "execution_count": 23,
   "metadata": {},
   "outputs": [
    {
     "name": "stdout",
     "output_type": "stream",
     "text": [
      "0 * 5 = 0\n",
      "1 * 6 = 6\n",
      "2 * 7 = 14\n",
      "3 * 8 = 24\n",
      "4 * 9 = 36\n"
     ]
    }
   ],
   "source": [
    "from itertools import *\n",
    "\n",
    "values = [(0, 5), (1, 6), (2, 7), (3, 8), (4, 9)]\n",
    "\n",
    "for i in starmap(lambda x, y: (x, y, x * y), values):\n",
    "    print('{} * {} = {}'.format(*i))"
   ]
  },
  {
   "cell_type": "markdown",
   "metadata": {},
   "source": [
    "Если преобразующая функция, передаваемая функции __map()__, вызывается как\n",
    "__f(i1, i2)__, то преобразующая функция, передаваемая функции __starmap()__, вызывается как __f(*i)__."
   ]
  },
  {
   "cell_type": "markdown",
   "metadata": {},
   "source": [
    "## Создание новых значений"
   ]
  },
  {
   "cell_type": "markdown",
   "metadata": {},
   "source": [
    "Функция __count()__ создает итератор, вырабатывающий бесконечную последовательность целых чисел. Начальное значение может быть указано в качестве аргумента (по умолчанию — 0). Аргумент для задания верхней границы не предусмотрен (более полный контроль над результирующим набором значений обеспечивает встроенная функция __range()__)."
   ]
  },
  {
   "cell_type": "code",
   "execution_count": 24,
   "metadata": {},
   "outputs": [
    {
     "name": "stdout",
     "output_type": "stream",
     "text": [
      "(1, 'a')\n",
      "(2, 'b')\n",
      "(3, 'c')\n"
     ]
    }
   ],
   "source": [
    "from itertools import *\n",
    "\n",
    "for i in zip(count(1), ['a', 'b', 'c']):\n",
    "    print(i)"
   ]
  },
  {
   "cell_type": "markdown",
   "metadata": {},
   "source": [
    "Выполнение примера прекращается по исчерпании элементов списка, заданного в качестве аргумента.\n",
    "\n",
    "Аргументами __start__ и __step__ функции __count()__ могут быть любые числовые значения, допускающие операцию сложения."
   ]
  },
  {
   "cell_type": "code",
   "execution_count": 25,
   "metadata": {},
   "outputs": [
    {
     "name": "stdout",
     "output_type": "stream",
     "text": [
      "1/3: a\n",
      "2/3: b\n",
      "1: c\n"
     ]
    }
   ],
   "source": [
    "import fractions\n",
    "from itertools import *\n",
    "\n",
    "start = fractions.Fraction(1, 3)\n",
    "step = fractions.Fraction(1, 3)\n",
    "\n",
    "for i in zip(count(start, step), ['a', 'b', 'c']):\n",
    "    print('{}: {}'.format(*i))"
   ]
  },
  {
   "cell_type": "markdown",
   "metadata": {},
   "source": [
    "В этом примере начальное значение и шаг представлены объектами __Fraction__ из модуля __fraction__.\n",
    "\n",
    "Функция __cycle()__ создает итератор, повторяющий содержимое аргументов бесконечное количество раз. Поскольку эта функция должна запоминать все содержимое входного итератора, она может потреблять много памяти в случае длинных входных последовательностей."
   ]
  },
  {
   "cell_type": "code",
   "execution_count": 35,
   "metadata": {},
   "outputs": [
    {
     "name": "stdout",
     "output_type": "stream",
     "text": [
      "(0, 'a')\n",
      "(1, 'b')\n",
      "(2, 'c')\n",
      "(3, 'a')\n",
      "(4, 'b')\n",
      "(5, 'c')\n",
      "(6, 'a')\n",
      "(7, 'b')\n",
      "(8, 'c')\n",
      "(9, 'a')\n"
     ]
    }
   ],
   "source": [
    "from itertools import *\n",
    "\n",
    "for i in zip(range(10), cycle(['a', 'b', 'c'])):\n",
    "    print(i)"
   ]
  },
  {
   "cell_type": "markdown",
   "metadata": {},
   "source": [
    "В этом примере выполнение цикла прерывается по исчерпании значений счетчика.\n",
    "\n",
    "Функция __repeat()__ создает итератор, возвращающий одно и то же значение при каждом обращении к нему."
   ]
  },
  {
   "cell_type": "code",
   "execution_count": 37,
   "metadata": {},
   "outputs": [
    {
     "name": "stdout",
     "output_type": "stream",
     "text": [
      "over-and-over\n",
      "over-and-over\n",
      "over-and-over\n",
      "over-and-over\n",
      "over-and-over\n",
      "over-and-over\n",
      "over-and-over\n",
      "over-and-over\n",
      "over-and-over\n",
      "over-and-over\n"
     ]
    }
   ],
   "source": [
    "from itertools import *\n",
    "\n",
    "for i in repeat('over-and-over', 10):\n",
    "    print(i)"
   ]
  },
  {
   "cell_type": "markdown",
   "metadata": {},
   "source": [
    "Итератор, созданный функцией __repeat()__, может возвращать данные бесконечное число раз, однако количество повторений можно ограничить c помощью необязательного аргумента __times__.\n",
    "\n",
    "Функцию __repeat()__ удобно использовать совместно c функциями __zip()__ и __map()__, если со значениями, возвращаемыми другими итераторами, должно сочетаться некое инвариантное значение"
   ]
  },
  {
   "cell_type": "code",
   "execution_count": 1,
   "metadata": {},
   "outputs": [
    {
     "name": "stdout",
     "output_type": "stream",
     "text": [
      "0 over-and-over\n",
      "1 over-and-over\n",
      "2 over-and-over\n",
      "3 over-and-over\n",
      "4 over-and-over\n"
     ]
    }
   ],
   "source": [
    "from itertools import *\n",
    "\n",
    "for i, s in zip(count(), repeat('over-and-over', 5)):\n",
    "    print(i, s)"
   ]
  },
  {
   "cell_type": "markdown",
   "metadata": {},
   "source": [
    "В этом примере значение счетчика объединяется c константой, возвращаемой\n",
    "функцией __repeat()__.\n",
    "\n",
    "В следующем примере функция __map()__ используется для умножения на 2 чисел в диапазоне 0-4.\n"
   ]
  },
  {
   "cell_type": "code",
   "execution_count": 13,
   "metadata": {},
   "outputs": [
    {
     "name": "stdout",
     "output_type": "stream",
     "text": [
      "2 * 0 = 0\n",
      "2 * 1 = 2\n",
      "2 * 2 = 4\n",
      "2 * 3 = 6\n",
      "2 * 4 = 8\n"
     ]
    }
   ],
   "source": [
    "from itertools import *\n",
    "\n",
    "for i in map(lambda x, y: (x, y, x * y), repeat(2), range(5)):\n",
    "    print('{:d} * {:d} = {:d}'.format(*i))"
   ]
  },
  {
   "cell_type": "markdown",
   "metadata": {},
   "source": [
    "В данном случае итератор, возвращаемый функцией __repeat()__, не нуждается в явном ограничении числа повторений, поскольку обработка c помощью функции __map()__ прекращается сразу же, как только исчерпывается любой из ее входных итераторов, а функция __range()__ возвращает только пять элементов."
   ]
  },
  {
   "cell_type": "markdown",
   "metadata": {},
   "source": [
    "## Фильтрация"
   ]
  },
  {
   "cell_type": "markdown",
   "metadata": {},
   "source": [
    "Функция __dropwhile()__ создает итератор, который начинает воспроизводить\n",
    "элементы входного итератора сразу же после того, как для заданного условия будет получено ложное значение."
   ]
  },
  {
   "cell_type": "code",
   "execution_count": 3,
   "metadata": {},
   "outputs": [
    {
     "name": "stdout",
     "output_type": "stream",
     "text": [
      "Testing: -1\n",
      "Testing: 0\n",
      "Testing: 1\n",
      "Yielding: 1\n",
      "Yielding: 2\n",
      "Yielding: -2\n"
     ]
    }
   ],
   "source": [
    "from itertools import *\n",
    "\n",
    "\n",
    "def should_drop(x):\n",
    "    print('Testing:', x)\n",
    "    return x < 1\n",
    "\n",
    "\n",
    "for i in dropwhile(should_drop, [-1, 0, 1, 2, -2]):\n",
    "    print('Yielding:', i)"
   ]
  },
  {
   "cell_type": "markdown",
   "metadata": {},
   "source": [
    "Функция __dropwhile()__ не тестирует все элементы входной последовательности. Как только условие принимает ложное значение, она начинает возвращать все оставшиеся элементы.\n",
    "\n",
    "Действия функции __takewhile()__ противоположны действиям функции __dropwhile()__. Она создает итератор, который выдает элементы из входного итератора, пока тестирующая функция возвращает истинное значение."
   ]
  },
  {
   "cell_type": "code",
   "execution_count": 4,
   "metadata": {},
   "outputs": [
    {
     "name": "stdout",
     "output_type": "stream",
     "text": [
      "Testing: -1\n",
      "Yielding: -1\n",
      "Testing: 0\n",
      "Yielding: 0\n",
      "Testing: 1\n",
      "Yielding: 1\n",
      "Testing: 2\n"
     ]
    }
   ],
   "source": [
    "from itertools import *\n",
    "\n",
    "\n",
    "def should_take(x):\n",
    "    print('Testing:', x)\n",
    "    return x < 2\n",
    "\n",
    "\n",
    "for i in takewhile(should_take, [-1, 0, 1, 2, -2]):\n",
    "    print('Yielding:', i)"
   ]
  },
  {
   "cell_type": "markdown",
   "metadata": {},
   "source": [
    "Как только функция __should_take()__ возвращает ложное значение, функция __takewhile()__ прекращает обработку входной последовательности.\n",
    "\n",
    "Встроенная функция __filter()__ создает итератор, включающий только те элементы, для которых тестирующая функция возвращает истинное значение.\n"
   ]
  },
  {
   "cell_type": "code",
   "execution_count": 38,
   "metadata": {},
   "outputs": [
    {
     "name": "stdout",
     "output_type": "stream",
     "text": [
      "Testing: -1\n",
      "Testing: 0\n",
      "Testing: 1\n",
      "Yielding: 1\n",
      "Testing: 2\n",
      "Yielding: 2\n",
      "Testing: -2\n"
     ]
    }
   ],
   "source": [
    "from itertools import *\n",
    "\n",
    "\n",
    "def check_item(x):\n",
    "    print('Testing:', x)\n",
    "    return x < 1\n",
    "\n",
    "\n",
    "for i in filterfalse(check_item, [-1, 0, 1, 2, -2]):\n",
    "    print('Yielding:', i)"
   ]
  },
  {
   "cell_type": "markdown",
   "metadata": {},
   "source": [
    "Функция __filter()__ отличается от функций __dropwhile()__ и __takewhile()__ тем,\n",
    "что тестирует каждый элемент входной последовательности, прежде чем вернуть его.\n",
    "\n",
    "Функция __filterfalse()__ создает итератор, включающий лишь те элементы,\n",
    "для которых тестирующая функция возвращает ложное значение.\n",
    "\n",
    "Тестовое выражение в __check_item()__ осталось прежним, поэтому результаты,\n",
    "полученные в данном примере c использованием функции __filterfalse()__, противоположны тем, которые были получены в предыдущем примере.\n",
    "\n",
    "Функция __compress()__ предлагает другой способ фильтрации содержимого итерируемого объекта. Вместо того чтобы вызывать функцию, она использует значения другого итерируемого объекта для индикации того, следует ли принять значение или игнорировать его."
   ]
  },
  {
   "cell_type": "code",
   "execution_count": 39,
   "metadata": {},
   "outputs": [
    {
     "name": "stdout",
     "output_type": "stream",
     "text": [
      "2 3 5 6 8 9 \n"
     ]
    }
   ],
   "source": [
    "from itertools import *\n",
    "\n",
    "every_third = cycle([False, True, True])\n",
    "data = range(1, 10)\n",
    "\n",
    "for i in compress(data, every_third):\n",
    "    print(i, end=' ')\n",
    "print()"
   ]
  },
  {
   "cell_type": "markdown",
   "metadata": {},
   "source": [
    "Первый аргумент — это итерируемые данные, подлежащие обработке. Второй\n",
    "аргумент — это итерируемый селектор, который предоставляет значения, указывающие на то, какие входные значения следует принимать (истинному значению соответствует воспроизведение входных значений, ложному — их игнорирование)."
   ]
  },
  {
   "cell_type": "markdown",
   "metadata": {},
   "source": [
    "## Группирование данных"
   ]
  },
  {
   "cell_type": "markdown",
   "metadata": {},
   "source": [
    "Функция __groupby()__ возвращает итератор, который создает наборы значений,\n",
    "группируемые в соответствии c общим признаком. В следующем примере продемонстрировано группирование родственных значений на основании значений\n",
    "атрибута."
   ]
  },
  {
   "cell_type": "code",
   "execution_count": 16,
   "metadata": {},
   "outputs": [
    {
     "name": "stdout",
     "output_type": "stream",
     "text": [
      "Data:\n",
      "[(0, 0),\n",
      " (1, 1),\n",
      " (2, 2),\n",
      " (0, 3),\n",
      " (1, 4),\n",
      " (2, 5),\n",
      " (0, 6)]\n",
      "\n",
      "Grouped, unsorted:\n",
      "0 [(0, 0)]\n",
      "1 [(1, 1)]\n",
      "2 [(2, 2)]\n",
      "0 [(0, 3)]\n",
      "1 [(1, 4)]\n",
      "2 [(2, 5)]\n",
      "0 [(0, 6)]\n",
      "\n",
      "Sorted:\n",
      "[(0, 0),\n",
      " (0, 3),\n",
      " (0, 6),\n",
      " (1, 1),\n",
      " (1, 4),\n",
      " (2, 2),\n",
      " (2, 5)]\n",
      "\n",
      "Grouped, sorted:\n",
      "0 [(0, 0), (0, 3), (0, 6)]\n",
      "1 [(1, 1), (1, 4)]\n",
      "2 [(2, 2), (2, 5)]\n",
      "\n"
     ]
    }
   ],
   "source": [
    "import functools\n",
    "from itertools import *\n",
    "import operator\n",
    "import pprint\n",
    "\n",
    "\n",
    "@functools.total_ordering\n",
    "class Point:\n",
    "\n",
    "    def __init__(self, x, y):\n",
    "        self.x = x\n",
    "        self.y = y\n",
    "\n",
    "    def __repr__(self):\n",
    "        return '({}, {})'.format(self.x, self.y)\n",
    "\n",
    "    def __eq__(self, other):\n",
    "        return (self.x, self.y) == (other.x, other.y)\n",
    "\n",
    "    def __gt__(self, other):\n",
    "        return (self.x, self.y) > (other.x, other.y)\n",
    "\n",
    "\n",
    "# Create a dataset of Point instances\n",
    "data = list(map(Point,\n",
    "                cycle(islice(count(), 3)),\n",
    "                islice(count(), 7)))\n",
    "print('Data:')\n",
    "pprint.pprint(data, width=35)\n",
    "print()\n",
    "\n",
    "# Try to group the unsorted data based on X values\n",
    "print('Grouped, unsorted:')\n",
    "for k, g in groupby(data, operator.attrgetter('x')):\n",
    "    print(k, list(g))\n",
    "print()\n",
    "\n",
    "# Sort the data\n",
    "data.sort()\n",
    "print('Sorted:')\n",
    "pprint.pprint(data, width=35)\n",
    "print()\n",
    "\n",
    "# Group the sorted data based on X values\n",
    "print('Grouped, sorted:')\n",
    "for k, g in groupby(data, operator.attrgetter('x')):\n",
    "    print(k, list(g))\n",
    "print()"
   ]
  },
  {
   "cell_type": "markdown",
   "metadata": {},
   "source": [
    "Чтобы группирование работало так, как ожидается, входная последовательность должна быть отсортирована по ключу."
   ]
  },
  {
   "cell_type": "markdown",
   "metadata": {},
   "source": [
    "## Комбинирование входных данных"
   ]
  },
  {
   "cell_type": "markdown",
   "metadata": {},
   "source": [
    "Функция __accumulate()__ обрабатывает входные итерируемые объекты, передавая n-й и (n+1)-й элементы функции и возвращая получаемый c помощью этой функции результат вместо входных значений. Функция по умолчанию суммирует два значения, поэтому функцию __accumulate()__ можно использовать для получения накопительной суммы входных данных."
   ]
  },
  {
   "cell_type": "code",
   "execution_count": 20,
   "metadata": {},
   "outputs": [
    {
     "name": "stdout",
     "output_type": "stream",
     "text": [
      "[0, 1, 3, 6, 10]\n",
      "['a', 'ab', 'abc', 'abcd', 'abcde']\n"
     ]
    }
   ],
   "source": [
    "from itertools import *\n",
    "\n",
    "print(list(accumulate(range(5))))\n",
    "print(list(accumulate('abcde')))"
   ]
  },
  {
   "cell_type": "markdown",
   "metadata": {},
   "source": [
    "В случае применения этой функции к значениям, не являющимся целыми числами, результат зависит от смысла операции “сложения”, объединяющей оба элемента. Как показывает второй из приведенных в этом сценарии примеров, при\n",
    "передаче функции __accumulate()__ строки она возвращает c каждым разом все более удлиняющийся префикс этой строки.\n",
    "\n",
    "Функцию __accumulate()__ можно использовать в сочетании c любой другой функцией, принимающей два входных значения, для получения других результатов."
   ]
  },
  {
   "cell_type": "code",
   "execution_count": 21,
   "metadata": {},
   "outputs": [
    {
     "name": "stdout",
     "output_type": "stream",
     "text": [
      "a b\n",
      "bab c\n",
      "cbabc d\n",
      "dcbabcd e\n",
      "['a', 'bab', 'cbabc', 'dcbabcd', 'edcbabcde']\n"
     ]
    }
   ],
   "source": [
    "from itertools import *\n",
    "\n",
    "\n",
    "def f(a, b):\n",
    "    print(a, b)\n",
    "    return b + a + b\n",
    "\n",
    "\n",
    "print(list(accumulate('abcde', f)))"
   ]
  },
  {
   "cell_type": "markdown",
   "metadata": {},
   "source": [
    "В этом примере в результате комбинирования строк образуется серия палиндромов (не несущих в себе никакого смысла). Каждый раз, когда вызывается функция __f()__, она выводит входные значения, переданные ей функцией __accumulate()__.\n",
    "\n",
    "Вместо вложенных циклов, выполняющих итерации по нескольким последовательностям, часто можно использовать функцию __product()__, возвращающую\n",
    "итерируемый объект, значениями которого являются декартовы произведения входных значений."
   ]
  },
  {
   "cell_type": "code",
   "execution_count": 22,
   "metadata": {},
   "outputs": [
    {
     "name": "stdout",
     "output_type": "stream",
     "text": [
      " 2H  2D  2C  2S \n",
      " 3H  3D  3C  3S \n",
      " 4H  4D  4C  4S \n",
      " 5H  5D  5C  5S \n",
      " 6H  6D  6C  6S \n",
      " 7H  7D  7C  7S \n",
      " 8H  8D  8C  8S \n",
      " 9H  9D  9C  9S \n",
      "10H 10D 10C 10S \n",
      " JH  JD  JC  JS \n",
      " QH  QD  QC  QS \n",
      " KH  KD  KC  KS \n",
      " AH  AD  AC  AS \n"
     ]
    }
   ],
   "source": [
    "from itertools import *\n",
    "import pprint\n",
    "\n",
    "FACE_CARDS = ('J', 'Q', 'K', 'A')\n",
    "SUITS = ('H', 'D', 'C', 'S')\n",
    "\n",
    "DECK = list(\n",
    "    product(\n",
    "        chain(range(2, 11), FACE_CARDS),\n",
    "        SUITS,\n",
    "    )\n",
    ")\n",
    "\n",
    "for card in DECK:\n",
    "    print('{:>2}{}'.format(*card), end=' ')\n",
    "    if card[1] == SUITS[-1]:\n",
    "        print()"
   ]
  },
  {
   "cell_type": "markdown",
   "metadata": {},
   "source": [
    "Значения, возвращаемые функцией __product()__, представляют собой кортежи, элементы которых берутся из каждого итерируемого объекта, переданного данной функции в качестве аргумента, в том порядке, в котором они передавались.\n",
    "Первый кортеж включает первое значение из каждого итерируемого объекта.\n",
    "Последний итерируемый объект, переданный функции __product()__, обрабатывается первым, затем обрабатывается предпоследний итерируемый объект и т.д. В результате этого порядок расположения возвращаемых значений основывается сначала на первом итерируемом объекте, затем на следующем и т.д.\n",
    "В этом примере карты упорядочиваются сначала по старшинству, а затем по масти.\n",
    "\n",
    "Порядок следования карт можно изменить, поменяв порядок передачи аргументов функции __product()__."
   ]
  },
  {
   "cell_type": "code",
   "execution_count": 23,
   "metadata": {},
   "outputs": [
    {
     "name": "stdout",
     "output_type": "stream",
     "text": [
      " 2H  3H  4H  5H  6H  7H  8H  9H 10H  JH  QH  KH  AH \n",
      " 2D  3D  4D  5D  6D  7D  8D  9D 10D  JD  QD  KD  AD \n",
      " 2C  3C  4C  5C  6C  7C  8C  9C 10C  JC  QC  KC  AC \n",
      " 2S  3S  4S  5S  6S  7S  8S  9S 10S  JS  QS  KS  AS \n"
     ]
    }
   ],
   "source": [
    "from itertools import *\n",
    "import pprint\n",
    "\n",
    "FACE_CARDS = ('J', 'Q', 'K', 'A')\n",
    "SUITS = ('H', 'D', 'C', 'S')\n",
    "\n",
    "DECK = list(\n",
    "    product(\n",
    "        SUITS,\n",
    "        chain(range(2, 11), FACE_CARDS),\n",
    "    )\n",
    ")\n",
    "\n",
    "for card in DECK:\n",
    "    print('{:>2}{}'.format(card[1], card[0]), end=' ')\n",
    "    if card[1] == FACE_CARDS[-1]:\n",
    "        print()"
   ]
  },
  {
   "cell_type": "markdown",
   "metadata": {},
   "source": [
    "В этом примере ожидается появление туза, а не пиковой масти, после чего добавляется символ перевода строки и выводится следующая строка.\n",
    "\n",
    "Чтобы вычислить произведение последовательности на саму себя, следует указать количество повторений."
   ]
  },
  {
   "cell_type": "code",
   "execution_count": 24,
   "metadata": {},
   "outputs": [
    {
     "name": "stdout",
     "output_type": "stream",
     "text": [
      "Repeat 2:\n",
      "\n",
      "(0, 0) (0, 1) (0, 2) \n",
      "(1, 0) (1, 1) (1, 2) \n",
      "(2, 0) (2, 1) (2, 2) \n",
      "\n",
      "Repeat 3:\n",
      "\n",
      "(0, 0, 0) (0, 0, 1) (0, 0, 2) \n",
      "(0, 1, 0) (0, 1, 1) (0, 1, 2) \n",
      "(0, 2, 0) (0, 2, 1) (0, 2, 2) \n",
      "(1, 0, 0) (1, 0, 1) (1, 0, 2) \n",
      "(1, 1, 0) (1, 1, 1) (1, 1, 2) \n",
      "(1, 2, 0) (1, 2, 1) (1, 2, 2) \n",
      "(2, 0, 0) (2, 0, 1) (2, 0, 2) \n",
      "(2, 1, 0) (2, 1, 1) (2, 1, 2) \n",
      "(2, 2, 0) (2, 2, 1) (2, 2, 2) \n",
      "\n"
     ]
    }
   ],
   "source": [
    "from itertools import *\n",
    "\n",
    "\n",
    "def show(iterable):\n",
    "    for i, item in enumerate(iterable, 1):\n",
    "        print(item, end=' ')\n",
    "        if (i % 3) == 0:\n",
    "            print()\n",
    "    print()\n",
    "\n",
    "\n",
    "print('Repeat 2:\\n')\n",
    "show(list(product(range(3), repeat=2)))\n",
    "\n",
    "print('Repeat 3:\\n')\n",
    "show(list(product(range(3), repeat=3)))"
   ]
  },
  {
   "cell_type": "markdown",
   "metadata": {},
   "source": [
    "Поскольку повторение одиночного итерируемого объекта определенное количество раз равносильно передаче того же количества одинаковых итерируемых объектов, количество элементов в каждом кортеже, создаваемом функцией\n",
    "__product()__, будет равно счетчику повторений.\n",
    "\n",
    "Функция __permutations()__ создает итератор, который возвращает все возможные перестановки заданной длины, образуемые из элементов входного итерируемого объекта."
   ]
  },
  {
   "cell_type": "code",
   "execution_count": 25,
   "metadata": {},
   "outputs": [
    {
     "name": "stdout",
     "output_type": "stream",
     "text": [
      "All permutations:\n",
      "\n",
      "abcd abdc acbd acdb adbc adcb \n",
      "bacd badc bcad bcda bdac bdca \n",
      "cabd cadb cbad cbda cdab cdba \n",
      "dabc dacb dbac dbca dcab dcba \n",
      "\n",
      "Pairs:\n",
      "\n",
      "ab ac ad \n",
      "ba bc bd \n",
      "ca cb cd \n",
      "da db dc \n"
     ]
    }
   ],
   "source": [
    "from itertools import *\n",
    "\n",
    "\n",
    "def show(iterable):\n",
    "    first = None\n",
    "    for i, item in enumerate(iterable, 1):\n",
    "        if first != item[0]:\n",
    "            if first is not None:\n",
    "                print()\n",
    "            first = item[0]\n",
    "        print(''.join(item), end=' ')\n",
    "    print()\n",
    "\n",
    "\n",
    "print('All permutations:\\n')\n",
    "show(permutations('abcd'))\n",
    "\n",
    "print('\\nPairs:\\n')\n",
    "show(permutations('abcd', r=2))"
   ]
  },
  {
   "cell_type": "markdown",
   "metadata": {},
   "source": [
    "Для изменения длины возвращаемых перестановок и их количества используйте аргумент __r__.\n",
    "\n",
    "Чтобы ограничить круг значений уникальными сочетаниями, а не перестановками, используйте функцию __combinations()__. Коль скоро все элементы входной последовательности являются уникальными, выходные последовательности не будут включать повторяющихся значений."
   ]
  },
  {
   "cell_type": "code",
   "execution_count": 26,
   "metadata": {},
   "outputs": [
    {
     "name": "stdout",
     "output_type": "stream",
     "text": [
      "Unique pairs:\n",
      "\n",
      "ab ac ad \n",
      "bc bd \n",
      "cd \n"
     ]
    }
   ],
   "source": [
    "from itertools import *\n",
    "\n",
    "\n",
    "def show(iterable):\n",
    "    first = None\n",
    "    for i, item in enumerate(iterable, 1):\n",
    "        if first != item[0]:\n",
    "            if first is not None:\n",
    "                print()\n",
    "            first = item[0]\n",
    "        print(''.join(item), end=' ')\n",
    "    print()\n",
    "\n",
    "\n",
    "print('Unique pairs:\\n')\n",
    "show(combinations('abcd', r=2))"
   ]
  },
  {
   "cell_type": "markdown",
   "metadata": {},
   "source": [
    "В отличие от функции __permutations()__, аргумент __r__ функции __combinations()__ является обязательным.\n",
    "\n",
    "В то время как функция __combinations()__ не повторяет индивидуальные элементы входной последовательности, иногда полезно рассматривать сочетания, допускающие повторение элементов. В подобных случаях следует использовать функцию __combinations_with_replacement()__."
   ]
  },
  {
   "cell_type": "code",
   "execution_count": 27,
   "metadata": {},
   "outputs": [
    {
     "name": "stdout",
     "output_type": "stream",
     "text": [
      "Unique pairs:\n",
      "\n",
      "aa ab ac ad \n",
      "bb bc bd \n",
      "cc cd \n",
      "dd \n"
     ]
    }
   ],
   "source": [
    "from itertools import *\n",
    "\n",
    "\n",
    "def show(iterable):\n",
    "    first = None\n",
    "    for i, item in enumerate(iterable, 1):\n",
    "        if first != item[0]:\n",
    "            if first is not None:\n",
    "                print()\n",
    "            first = item[0]\n",
    "        print(''.join(item), end=' ')\n",
    "    print()\n",
    "\n",
    "\n",
    "print('Unique pairs:\\n')\n",
    "show(combinations_with_replacement('abcd', r=2))"
   ]
  },
  {
   "cell_type": "markdown",
   "metadata": {},
   "source": [
    "На этот раз каждый входной элемент образует сочетание c самим собой, а также c другими элементами входной последовательности."
   ]
  },
  {
   "cell_type": "markdown",
   "metadata": {},
   "source": [
    "## Задания"
   ]
  },
  {
   "cell_type": "code",
   "execution_count": null,
   "metadata": {},
   "outputs": [],
   "source": []
  }
 ],
 "metadata": {
  "kernelspec": {
   "display_name": "Python 3",
   "language": "python",
   "name": "python3"
  },
  "language_info": {
   "codemirror_mode": {
    "name": "ipython",
    "version": 3
   },
   "file_extension": ".py",
   "mimetype": "text/x-python",
   "name": "python",
   "nbconvert_exporter": "python",
   "pygments_lexer": "ipython3",
   "version": "3.8.3"
  }
 },
 "nbformat": 4,
 "nbformat_minor": 4
}
