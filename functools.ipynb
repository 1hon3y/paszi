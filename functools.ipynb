{
 "cells": [
  {
   "cell_type": "markdown",
   "metadata": {},
   "source": [
    "# functools: инструменты для манипулирования функциями"
   ]
  },
  {
   "cell_type": "markdown",
   "metadata": {},
   "source": [
    "Предоставляемые модулем __functools__ инструменты позволяют адаптировать или расширять функции и другие вызываемые объекты без полного их переписывания."
   ]
  },
  {
   "cell_type": "markdown",
   "metadata": {},
   "source": [
    "## Декораторы"
   ]
  },
  {
   "cell_type": "markdown",
   "metadata": {},
   "source": [
    "Основной инструмент, предоставляемый модулем __functools__ — класс __partial__, который можно использовать в качестве “обертки” вокруг вызываемого объекта, задавая значения по умолчанию для части его аргументов. Результирующий объект сам является вызываемым, и c ним можно обращаться так, как если бы это была исходная функция. Он получает те же аргументы, но может вызываться c дополнительными позиционными или именованными аргументами.\n",
    "\n",
    "Объект типа __partial__ можно использовать вместо __lambda__ для передачи функции аргументов, заданных по умолчанию, в то же время оставляя не указанными некоторые аргументы."
   ]
  },
  {
   "cell_type": "markdown",
   "metadata": {},
   "source": [
    "### Объекты partial"
   ]
  },
  {
   "cell_type": "markdown",
   "metadata": {},
   "source": [
    "В этом примере представлены два простых объекта __partial__ для функции __myfunc()__. Функция __show_details()__ выводит информацию об атрибутах __func__, __args__ и __keywords__ объекта __partial__.\n"
   ]
  },
  {
   "cell_type": "code",
   "execution_count": 11,
   "metadata": {},
   "outputs": [
    {
     "name": "stdout",
     "output_type": "stream",
     "text": [
      "myfunc:\n",
      " object: <function myfunc at 0x0000020E76B64F70>\n",
      " __name__: myfunc\n",
      " called myfunc with: ('a', 3)\n",
      "\n",
      "partial with named default:\n",
      " object: functools.partial(<function myfunc at 0x0000020E76B64F70>, b=4)\n",
      " func: <function myfunc at 0x0000020E76B64F70>\n",
      " args: ()\n",
      " keywords: {'b': 4}\n",
      " called myfunc with: ('passing а', 4)\n",
      " called myfunc with: ('override b', 5)\n",
      "\n",
      "partial with defaults:\n",
      " object: functools.partial(<function myfunc at 0x0000020E76B64F70>, 'default a', b=99)\n",
      " func: <function myfunc at 0x0000020E76B64F70>\n",
      " args: ('default a',)\n",
      " keywords: {'b': 99}\n",
      " called myfunc with: ('default a', 99)\n",
      " called myfunc with: ('default a', 'override b')\n",
      "\n",
      "Insufficient arguments:\n"
     ]
    },
    {
     "ename": "TypeError",
     "evalue": "myfunc() missing 1 required positional argument: 'a'",
     "output_type": "error",
     "traceback": [
      "\u001b[1;31m---------------------------------------------------------------------------\u001b[0m",
      "\u001b[1;31mTypeError\u001b[0m                                 Traceback (most recent call last)",
      "\u001b[1;32m<ipython-input-11-0dec6bb05ad0>\u001b[0m in \u001b[0;36m<module>\u001b[1;34m\u001b[0m\n\u001b[0;32m     36\u001b[0m \u001b[1;33m\u001b[0m\u001b[0m\n\u001b[0;32m     37\u001b[0m \u001b[0mprint\u001b[0m\u001b[1;33m(\u001b[0m\u001b[1;34m'Insufficient arguments:'\u001b[0m\u001b[1;33m)\u001b[0m\u001b[1;33m\u001b[0m\u001b[1;33m\u001b[0m\u001b[0m\n\u001b[1;32m---> 38\u001b[1;33m \u001b[0mp1\u001b[0m\u001b[1;33m(\u001b[0m\u001b[1;33m)\u001b[0m\u001b[1;33m\u001b[0m\u001b[1;33m\u001b[0m\u001b[0m\n\u001b[0m",
      "\u001b[1;31mTypeError\u001b[0m: myfunc() missing 1 required positional argument: 'a'"
     ]
    }
   ],
   "source": [
    "import functools\n",
    "\n",
    "def myfunc(a, b=2):\n",
    "    \"\"\"Docstring for myfunc().\"\"\"\n",
    "    print(' called myfunc with:', (a,b))\n",
    "        \n",
    "def show_details(name, f, is_partial=False):\n",
    "    \"\"\"Показать детали вызываемого объекта.\"\"\"\n",
    "    print('{}:'.format(name))\n",
    "    print(' object:', f)\n",
    "    if not is_partial:\n",
    "        print(' __name__:', f.__name__)\n",
    "    if is_partial:\n",
    "        print(' func:', f.func)\n",
    "        print(' args:', f.args)\n",
    "        print(' keywords:', f.keywords)\n",
    "    return\n",
    "              \n",
    "show_details('myfunc', myfunc)\n",
    "myfunc('a',3)\n",
    "print()\n",
    "             \n",
    "# Задать другое значение по умолчанию для 'b', но потребовать, чтобы вызывающий код предоставил 'a'\n",
    "p1 = functools.partial(myfunc, b=4)\n",
    "show_details('partial with named default', p1, True)\n",
    "p1('passing а')\n",
    "p1('override b', b=5)\n",
    "print()\n",
    "   \n",
    "# Задать значения по умолчанию для ’a' и 'b'\n",
    "p2 = functools.partial(myfunc, 'default a', b=99)\n",
    "show_details('partial with defaults', p2, True)\n",
    "p2()\n",
    "p2(b='override b')\n",
    "print()\n",
    "\n",
    "print('Insufficient arguments:')\n",
    "p1()"
   ]
  },
  {
   "cell_type": "markdown",
   "metadata": {},
   "source": [
    "В конце примера первый из объектов __partial__ вызывается без передачи значения для а, что приводит к возбуждению исключения."
   ]
  },
  {
   "cell_type": "markdown",
   "metadata": {},
   "source": [
    "### Копирование и добавление свойств функции"
   ]
  },
  {
   "cell_type": "markdown",
   "metadata": {},
   "source": [
    "По умолчанию объект __partial__ не имеет атрибутов **__________name__** и **__________doc__**, и их отсутствие затрудняет отладку декорированных функций. Функция **update__wrapper()** позволяет добавлять и копировать атрибуты из исходной функции в объект __partial__."
   ]
  },
  {
   "cell_type": "code",
   "execution_count": 1,
   "metadata": {},
   "outputs": [
    {
     "name": "stdout",
     "output_type": "stream",
     "text": [
      "myfunc:\n",
      " object: <function myfunc at 0x000002290CEB4550>\n",
      " __name__: myfunc\n",
      " __doc__: 'Docstring for myfunc().'\n",
      "\n",
      "raw wrapper:\n",
      " object: functools.partial(<function myfunc at 0x000002290CEB4550>, b=4)\n",
      " __name__: (no __name__)\n",
      " __doc__: 'partial(func, *args, **keywords) - new function with partial application\\n    of the given arguments and keywords.\\n'\n",
      "\n",
      "Updating wrapper:\n",
      " assign: ('__module__', '__name__', '__qualname__', '__doc__', '__annotations__')\n",
      " update: ('__dict__',)\n",
      "\n",
      "updated wrapper:\n",
      " object: functools.partial(<function myfunc at 0x000002290CEB4550>, b=4)\n",
      " __name__: myfunc\n",
      " __doc__: 'Docstring for myfunc().'\n",
      "\n"
     ]
    }
   ],
   "source": [
    "import functools\n",
    "\n",
    "def myfunc(a, b=2):\n",
    "    \"Docstring for myfunc().\"\n",
    "    print(' called myfunc with:', (а, b))\n",
    "\n",
    "def show_details(name, f):\n",
    "    \"Показать детали вызываемого объекта.\"\n",
    "    print('{}:'.format(name))\n",
    "    print(' object:', f)\n",
    "    print(' __name__:', end=' ')\n",
    "    try:\n",
    "        print(f.__name__)\n",
    "    except AttributeError:\n",
    "        print('(no __name__)')\n",
    "    print(' __doc__:', repr(f.__doc__))\n",
    "    print()\n",
    "          \n",
    "show_details('myfunc', myfunc)\n",
    "          \n",
    "p1 = functools.partial(myfunc, b=4)\n",
    "show_details('raw wrapper', p1)\n",
    "          \n",
    "print('Updating wrapper:')\n",
    "print(' assign:', functools.WRAPPER_ASSIGNMENTS)\n",
    "print(' update:', functools.WRAPPER_UPDATES)\n",
    "print()\n",
    "          \n",
    "functools.update_wrapper(p1, myfunc)\n",
    "show_details('updated wrapper', p1)"
   ]
  },
  {
   "cell_type": "markdown",
   "metadata": {},
   "source": [
    "Значения по умолчанию атрибутов, добавляемых в функцию-обертку, определяются c помощью константы **WRAPPER_ASSIGNMENTS** уровня модуля, тогда как значения по умолчанию, обновляющие соответствующие атрибуты функции-обертки, — c помощью константы **WRAPPER_UPDATES**."
   ]
  },
  {
   "cell_type": "markdown",
   "metadata": {},
   "source": [
    "### Другие вызываемые объекты"
   ]
  },
  {
   "cell_type": "markdown",
   "metadata": {},
   "source": [
    "Класс __partial__ позволяет работать c любыми вызываемыми объектами, а не только c автономными функциями."
   ]
  },
  {
   "cell_type": "code",
   "execution_count": 3,
   "metadata": {},
   "outputs": [
    {
     "name": "stdout",
     "output_type": "stream",
     "text": [
      "instance:\n",
      " object: <__main__.MyClass object at 0x000002290CEDB6D0>\n",
      " __name__: (no __name__)\n",
      " __doc__ 'Демонстрационный класс для functools'\n",
      " called object with: (<__main__.MyClass object at 0x000002290CEDB6D0>, 'e goes here', 6)\n",
      "\n",
      "instance wrapper:\n",
      " object: functools.partial(<__main__.MyClass object at 0x000002290CEDB6D0>, e='default for e', f=8)\n",
      " __name__: (no __name__)\n",
      " __doc__ 'Демонстрационный класс для functools'\n",
      " called object with: (<__main__.MyClass object at 0x000002290CEDB6D0>, 'default for e', 8)\n"
     ]
    }
   ],
   "source": [
    "import functools\n",
    "\n",
    "class MyClass:\n",
    "    \"Демонстрационный класс для functools\"\n",
    "\n",
    "    def __call__(self, e, f=6):\n",
    "        \"Docstring for MyClass.__call__ \"\n",
    "        print(' called object with:', (self, e, f))\n",
    "      \n",
    "    \n",
    "def show_details(name, f):\n",
    "    \"Показать детали вызываемого объекта.\"\n",
    "    print('{}:'.format(name))\n",
    "    print(' object:', f)\n",
    "    print(' __name__:', end=' ')\n",
    "    try:\n",
    "        print(f.__name__)\n",
    "    except AttributeError:\n",
    "        print('(no __name__)')\n",
    "    print(' __doc__', repr(f.__doc__))\n",
    "    return\n",
    "      \n",
    "o = MyClass()\n",
    "      \n",
    "show_details('instance', o)\n",
    "o('e goes here')\n",
    "print()\n",
    "             \n",
    "p = functools.partial(o, e='default for e', f=8)\n",
    "functools.update_wrapper(p, o)\n",
    "show_details('instance wrapper', p)\n",
    "p()"
   ]
  },
  {
   "cell_type": "markdown",
   "metadata": {},
   "source": [
    "В этом примере объекты __partial__ создаются из экземпляра класса c помощью метода **__________call__()**."
   ]
  },
  {
   "cell_type": "markdown",
   "metadata": {},
   "source": [
    "### Методы и функции"
   ]
  },
  {
   "cell_type": "markdown",
   "metadata": {},
   "source": [
    "В то время как функция __partial()__ возвращает вызываемый объект, готовый к непосредственному использованию, функция __partialmethod()__ возвращает объект, готовый к использованию в качестве несвязанного метода объекта. В следующем примере одна и та же автономная функция добавляется в качестве атрибута класса __MyClass__ дважды: один раз c помощью функции __partialmethod()__, как __method1()__, и второй раз c помощью функции __partial()__, как __method2()__."
   ]
  },
  {
   "cell_type": "code",
   "execution_count": 23,
   "metadata": {},
   "outputs": [
    {
     "name": "stdout",
     "output_type": "stream",
     "text": [
      "standalone\n",
      " called standalone with: (None, 1, 2)\n",
      "\n",
      "method1 as partialmethod\n",
      " called standalone with: (<__main__.MyClass object at 0x0000020E76B94A30>, 1, 2)\n",
      " self.attr = instance attribute\n",
      "\n",
      "method2 as partial\n",
      "ERROR: standalone() missing 1 required positional argument: 'self'\n"
     ]
    }
   ],
   "source": [
    "import functools\n",
    "\n",
    "def standalone(self, a=1, b=2):\n",
    "    \"Автономная функция\"\n",
    "    print(' called standalone with:', (self, a, b))\n",
    "    if self is not None:\n",
    "        print(' self.attr =', self.attr)\n",
    "      \n",
    "    \n",
    "class MyClass:\n",
    "    \"Демонстрационный класс для functools\"\n",
    "      \n",
    "    def __init__(self):\n",
    "        self.attr = 'instance attribute'\n",
    "      \n",
    "    method1 = functools.partialmethod(standalone)\n",
    "    method2 = functools.partial(standalone)\n",
    "      \n",
    "o = MyClass()\n",
    "      \n",
    "print('standalone')\n",
    "standalone(None)\n",
    "print()\n",
    "      \n",
    "print('method1 as partialmethod')\n",
    "o.method1()\n",
    "print()\n",
    "      \n",
    "print('method2 as partial')\n",
    "try:\n",
    "    o.method2()\n",
    "except TypeError as err:\n",
    "    print('ERROR: {}'.format(err))"
   ]
  },
  {
   "cell_type": "markdown",
   "metadata": {},
   "source": [
    "### Наделение декоратора свойствами декорируемой функции"
   ]
  },
  {
   "cell_type": "markdown",
   "metadata": {},
   "source": [
    "Обновление свойств функции-обертки особенно полезно в случае декораторов, поскольку это позволяет сделать ее похожей на исходную “голую” функцию."
   ]
  },
  {
   "cell_type": "code",
   "execution_count": 29,
   "metadata": {},
   "outputs": [
    {
     "name": "stdout",
     "output_type": "stream",
     "text": [
      "myfunc:\n",
      " object: <function myfunc at 0x0000020E76C64A60>\n",
      " __name__: myfunc\n",
      " __doc__ 'myfunc() is not complicated'\n",
      "\n",
      " myfunc: ('unwrapped, default b', 2)\n",
      " myfunc: ('unwrapped, passing b', 3)\n",
      "\n",
      "wrapped_myfunc:\n",
      " object: <function myfunc at 0x0000020E76B64550>\n",
      " __name__: myfunc\n",
      " __doc__ 'myfunc() is not complicated'\n",
      "\n",
      " decorated: ('decorated defaults', 1)\n",
      "   myfunc: ('decorated defaults', 1)\n",
      " decorated: ('args to wrapped', 4)\n",
      "   myfunc: ('args to wrapped', 4)\n",
      "\n",
      "decorated_myfunc:\n",
      " object: <function decorated_myfunc at 0x0000020E76C55CA0>\n",
      " __name__: decorated_myfunc\n",
      " __doc__ None\n",
      "\n",
      " decorated: ('decorated defaults', 1)\n",
      "   myfunc: ('decorated defaults', 1)\n",
      " decorated: ('args to decorated', 4)\n",
      "   myfunc: ('args to decorated', 4)\n"
     ]
    }
   ],
   "source": [
    "import functools\n",
    "\n",
    "def show_details(name, f):\n",
    "    \"Показать детали вызываемого объекта.\"\n",
    "    print('{}:'.format(name))\n",
    "    print(' object:', f)\n",
    "    print(' __name__:', end=' ')\n",
    "    try:\n",
    "        print (f.__name__)\n",
    "    except AttributeError:\n",
    "        print('(no __name__)')\n",
    "    print(' __doc__', repr(f.__doc__))\n",
    "    print()\n",
    "      \n",
    "def simple_decorator(f):\n",
    "    @functools.wraps(f)\n",
    "    def decorated(a='decorated defaults', b=1):\n",
    "        print(' decorated:', (a, b))\n",
    "        print(' ', end=' ')\n",
    "        return f(a, b=b)\n",
    "    return decorated\n",
    "      \n",
    "def myfunc(a, b=2) :\n",
    "    \"myfunc() is not complicated\"\n",
    "    print(' myfunc:', (a, b))\n",
    "    return\n",
    "      \n",
    "# Исходная функция\n",
    "show_details('myfunc', myfunc)\n",
    "myfunc('unwrapped, default b')\n",
    "myfunc('unwrapped, passing b', 3)\n",
    "print()\n",
    "      \n",
    "# Явное упаковывание\n",
    "wrapped_myfunc = simple_decorator(myfunc)\n",
    "show_details('wrapped_myfunc', wrapped_myfunc)\n",
    "wrapped_myfunc()\n",
    "wrapped_myfunc('args to wrapped', 4)\n",
    "print()\n",
    "             \n",
    "# Упаковывание c помощью синтаксиса декоратора\n",
    "@simple_decorator\n",
    "def decorated_myfunc(a, b):\n",
    "    myfunc(a, b)\n",
    "    return\n",
    "             \n",
    "show_details('decorated_myfunc', decorated_myfunc)\n",
    "decorated_myfunc()\n",
    "decorated_myfunc('args to decorated', 4)"
   ]
  },
  {
   "cell_type": "markdown",
   "metadata": {},
   "source": [
    "Модуль __functools__ предоставляет декоратор __wraps()__, который применяет функцию __update_wrapper()__ к декорируемой функции."
   ]
  },
  {
   "cell_type": "markdown",
   "metadata": {},
   "source": [
    "## Сравнение"
   ]
  },
  {
   "cell_type": "markdown",
   "metadata": {},
   "source": [
    "B ***Python 2*** классы могут определять метод **__________cmp__()**, который возвращает значение -1, 0 или 1, в зависимости от того, является ли объект соответственно меньшим, равным или большим, чем элемент, c которым он сравнивается.\n",
    "\n",
    "В ***Python 2.1*** появился API методов расширенного сравнения (**__________lt__()**, **__________le__()**, **__________eq__()**, **__________ne__()**, **__________gt__()** и **__________ge__()**), которые выполняют сравнение и возвращают булево значение. \n",
    "\n",
    "В ***Python 3*** от метода **__________cmp__()** отказались как от устаревшего в пользу этих новых методов, и модуль __functools__ предоставляет инструменты, которые упрощают написание классов, совместимых c требованиями к операциям сравнения в ***Python 3***."
   ]
  },
  {
   "cell_type": "markdown",
   "metadata": {},
   "source": [
    "### Расширенное сравнение"
   ]
  },
  {
   "cell_type": "markdown",
   "metadata": {},
   "source": [
    "API расширенного сравнения проектировался c таким расчетом, чтобы обеспечить максимально эффективную реализацию каждого теста для классов со сложными операциями сравнения. Однако в случае классов c относительно простыми операциями сравнения не имеет смысла создавать вручную каждый метод.\n",
    "\n",
    "Декоратор классов __total_ordering()__ получает класс, который предоставляет некоторые из методов сравнения, и добавляет остальные методы."
   ]
  },
  {
   "cell_type": "code",
   "execution_count": 32,
   "metadata": {},
   "outputs": [
    {
     "name": "stdout",
     "output_type": "stream",
     "text": [
      "Methods:\n",
      "\n",
      "[('__eq__', <function MyObject.__eq__ at 0x0000020E76C55F70>),\n",
      " ('__ge__', <function _ge_from_gt at 0x0000020E72D638B0>),\n",
      " ('__gt__', <function MyObject.__gt__ at 0x0000020E76C554C0>),\n",
      " ('__init__', <function MyObject.__init__ at 0x0000020E76C553A0>),\n",
      " ('__le__', <function _le_from_gt at 0x0000020E72D63940>),\n",
      " ('__lt__', <function _lt_from_gt at 0x0000020E72D63820>)]\n",
      "\n",
      "Comparisons:\n",
      "\n",
      "a < b :\n",
      " testing__gt__(1, 2)\n",
      " testing__eq__(1, 2)\n",
      " result of a < b: True\n",
      "\n",
      "a <= b:\n",
      " testing__gt__(1, 2)\n",
      " result of a <= b: True\n",
      "\n",
      "a == b:\n",
      " testing__eq__(1, 2)\n",
      " result of a == b: False\n",
      "\n",
      "a >= b:\n",
      " testing__gt__(1, 2)\n",
      " testing__eq__(1, 2)\n",
      " result of a >= b: False\n",
      "\n",
      "a > b :\n",
      " testing__gt__(1, 2)\n",
      " result of a > b: False\n"
     ]
    }
   ],
   "source": [
    "import functools\n",
    "import inspect\n",
    "from pprint import pprint\n",
    "\n",
    "@functools.total_ordering\n",
    "class MyObject:\n",
    "    \n",
    "    def __init__ (self, val):\n",
    "        self.val = val\n",
    "\n",
    "    def __eq__(self, other):\n",
    "        print(' testing__eq__({}, {})'.format(self.val, other.val))\n",
    "        return self.val == other.val\n",
    "\n",
    "    def __gt__(self, other):\n",
    "        print(' testing__gt__({}, {})'.format(self.val, other.val))\n",
    "        return self.val > other.val\n",
    "\n",
    "print('Methods:\\n')\n",
    "pprint(inspect.getmembers(MyObject, inspect.isfunction))\n",
    "      \n",
    "a = MyObject(1)\n",
    "b = MyObject(2)\n",
    "      \n",
    "print('\\nComparisons:')\n",
    "for expr in ['a < b', 'a <= b', 'a == b', 'a >= b', 'a > b']:\n",
    "    print('\\n{:<6}:'.format(expr))\n",
    "    result = eval(expr)\n",
    "    print(' result of {}: {}'.format(expr, result))"
   ]
  },
  {
   "cell_type": "markdown",
   "metadata": {},
   "source": [
    "Класс должен предоставить реализацию метода **__________eq__()** и одного из оставшихся методов расширенного сравнения. Декоратор добавляет реализации остальных методов, которые работают, используя предоставленные реализации. Если сравнение не может быть выполнено, метод должен вернуть значение __NotImplemented__, чтобы можно было попытаться использовать операторы обратного сравнения c другим объектом, прежде чем признать операцию неудачной."
   ]
  },
  {
   "cell_type": "markdown",
   "metadata": {},
   "source": [
    "### Порядок сортировки"
   ]
  },
  {
   "cell_type": "markdown",
   "metadata": {},
   "source": [
    "Поскольку функции сравнения старого стиля признаны устаревшими в ___Python 3___, аргумент __cmp__ в функциях наподобие __sort()__ больше не поддерживается.\n",
    "\n",
    "Функция __cmp_to_key()__ обеспечивает преобразование старых функций в функции, которые возвращают ключ сортировки, определяющий позицию объекта в конечной последовательности."
   ]
  },
  {
   "cell_type": "code",
   "execution_count": 3,
   "metadata": {},
   "outputs": [
    {
     "name": "stdout",
     "output_type": "stream",
     "text": [
      "key_wrapper(MyObject(5)) -> <functools.KeyWrapper object at 0x00000152877013B0>\n",
      "key_wrapper(MyObject(4)) -> <functools.KeyWrapper object at 0x0000015287701690>\n",
      "key_wrapper(MyObject(3)) -> <functools.KeyWrapper object at 0x00000152877010D0>\n",
      "key_wrapper(MyObject(2)) -> <functools.KeyWrapper object at 0x00000152877012D0>\n",
      "key_wrapper(MyObject(1)) -> <functools.KeyWrapper object at 0x0000015287701210>\n",
      "comparing MyObject(4) and MyObject(5)\n",
      "comparing MyObject(3) and MyObject(4)\n",
      "comparing MyObject(2) and MyObject(3)\n",
      "comparing MyObject(1) and MyObject(2)\n",
      "MyObject(1)\n",
      "MyObject(2)\n",
      "MyObject(3)\n",
      "MyObject(4)\n",
      "MyObject(5)\n"
     ]
    }
   ],
   "source": [
    "import functools\n",
    "\n",
    "class MyObject:\n",
    "    \n",
    "    def __init__(self, val):\n",
    "        self.val = val\n",
    "\n",
    "    def __str__(self):\n",
    "        return 'MyObject({})'.format(self.val)\n",
    "\n",
    "def compare_obj(a, b):\n",
    "    \"\"\"Функция сравнения старого стиля.\"\"\"\n",
    "    print('comparing {} and {}'.format(a,b))\n",
    "    if a.val < b.val:\n",
    "        return -1\n",
    "    elif a.val > b.val:\n",
    "        return 1\n",
    "    return 0\n",
    "      \n",
    "# Заставить функцию ключа использовать функцию cmp_to_key()\n",
    "get_key = functools.cmp_to_key(compare_obj)\n",
    "      \n",
    "def get_key_wrapper(o):\n",
    "    \"Функция-обертка для get_key, разрешающая инструкции вывода.\"\n",
    "    new_key = get_key(o)\n",
    "    print('key_wrapper({}) -> {!r}'.format(o, new_key))\n",
    "    return new_key\n",
    "      \n",
    "objs = [MyObject(x) for x in range(5, 0, -1)]\n",
    "      \n",
    "for o in sorted(objs, key=get_key_wrapper):\n",
    "    print(o)"
   ]
  },
  {
   "cell_type": "markdown",
   "metadata": {},
   "source": [
    "Обычно функцию __cmp_to_key()__ используют непосредственно, но в данном примере привлекается функция-обертка, обеспечивающая вывод дополнительной информации при вызове функции сопоставления.\n",
    "\n",
    "Как следует из этих результатов, выполнение функции __sorted()__ начинается c вызова функции __get_key_wrapper()__ для каждого элемента последовательности c целью генерации ключей. Ключами, возвращаемыми функцией __cmp_to_key()__, являются экземпляры определенного в модуле __functools__ класса, который реализует API расширенного сравнения c использованием передаваемой ему функции сравнения старого стиля. Созданные ключи используются для сортировки последовательности путем их сравнения."
   ]
  },
  {
   "cell_type": "markdown",
   "metadata": {},
   "source": [
    "## Кеширование"
   ]
  },
  {
   "cell_type": "markdown",
   "metadata": {},
   "source": [
    "Декоратор __lru_cache()__ обертывает функцию кешем LRU (от англ, teast recently used — “вытесняется элемент, неиспользованный дольше всех”). Аргументы функции используются для создания хеш-значения, которое сопоставляется c результатом. Последующие вызовы функции c теми же аргументами будут заменяться извлечением соответствующего значения из кеша. Кроме того, этот декоратор добавляет в функцию методы, обеспечивающие проверку состояния (__cache_info()__) и очистку (__cache_clear()__) кеша."
   ]
  },
  {
   "cell_type": "code",
   "execution_count": 8,
   "metadata": {},
   "outputs": [
    {
     "name": "stdout",
     "output_type": "stream",
     "text": [
      "First set of calls:\n",
      "expensive(0, 0)\n",
      "expensive(0, 1)\n",
      "expensive(1, 0)\n",
      "expensive(1, 1)\n",
      "CacheInfo(hits=0, misses=4, maxsize=128, currsize=4)\n",
      "\n",
      "Second set of calls:\n",
      "expensive(0, 2)\n",
      "expensive(1, 2)\n",
      "expensive(2, 0)\n",
      "expensive(2, 1)\n",
      "expensive(2, 2)\n",
      "CacheInfo(hits=4, misses=9, maxsize=128, currsize=9)\n",
      "\n",
      "Clearing cache:\n",
      "CacheInfo(hits=0, misses=0, maxsize=128, currsize=0)\n",
      "\n",
      "Third set of calls:\n",
      "expensive(0, 0)\n",
      "expensive(0, 1)\n",
      "expensive(1, 0)\n",
      "expensive(1, 1)\n",
      "CacheInfo(hits=0, misses=4, maxsize=128, currsize=4)\n"
     ]
    }
   ],
   "source": [
    "import functools\n",
    "\n",
    "@functools.lru_cache()\n",
    "def expensive(a, b):\n",
    "    print('expensive({}, {})'.format(a, b))\n",
    "    return a * b\n",
    "      \n",
    "MAX = 2\n",
    "      \n",
    "print('First set of calls:')\n",
    "for i in range(MAX):\n",
    "    for j in range(MAX):\n",
    "        expensive(i, j)\n",
    "print(expensive.cache_info())\n",
    "      \n",
    "print('\\nSecond set of calls:')\n",
    "for i in range(MAX + 1):\n",
    "    for j in range(MAX + 1):\n",
    "        expensive(i, j)\n",
    "print(expensive.cache_info())\n",
    "      \n",
    "print('\\nClearing cache:')\n",
    "expensive.cache_clear()\n",
    "print(expensive.cache_info())\n",
    "      \n",
    "print('\\nThird set of calls:')\n",
    "for i in range(MAX):\n",
    "    for j in range(MAX):\n",
    "        expensive(i, j)\n",
    "print(expensive.cache_info())"
   ]
  },
  {
   "cell_type": "markdown",
   "metadata": {},
   "source": [
    "В этом примере выполняется серия вызовов функции __expensive()__ в наборе вложенных циклов. При повторных вызовах функции c одними и теми же значениями аргументов результаты появляются в кеше. При повторном выполнении циклов после очистки кеша значения должны вычисляться заново.\n",
    "\n",
    "Неограниченный рост размера кеша в длительно выполняющихся процессах можно предотвратить, задав его максимальный размер. Размер по умолчанию —\n",
    "128 записей, но его можно регулировать для каждого кеша c помощью аргумента __maxsize__."
   ]
  },
  {
   "cell_type": "code",
   "execution_count": 6,
   "metadata": {},
   "outputs": [
    {
     "name": "stdout",
     "output_type": "stream",
     "text": [
      "Establish the cache\n",
      "(1, 2) expensive(1, 2)\n",
      "(2, 3) expensive(2, 3)\n",
      "\n",
      "Use cached items\n",
      "(1, 2) cache hit\n",
      "(2, 3) cache hit\n",
      "\n",
      "Compute a new value, triggering cache expiration\n",
      "(3, 4) expensive(3, 4)\n",
      "\n",
      "Cache still contains one old item\n",
      "(2, 3) cache hit\n",
      "\n",
      "Oldest item needs to be recomputed\n",
      "(1, 2) cache hit\n"
     ]
    }
   ],
   "source": [
    "import functools\n",
    "\n",
    "@functools.lru_cache()\n",
    "def expensive(a, b):\n",
    "    print('expensive({}, {})'.format(a, b))\n",
    "    return a * b\n",
    "\n",
    "def make_call(a, b):\n",
    "    print('({}, {})'.format(a, b), end=' ')\n",
    "    pre_hits = expensive.cache_info().hits\n",
    "    expensive(a, b)\n",
    "    post_hits = expensive.cache_info().hits\n",
    "    if post_hits > pre_hits:\n",
    "        print('cache hit')\n",
    "             \n",
    "print('Establish the cache')\n",
    "make_call(1, 2)\n",
    "make_call(2, 3)\n",
    "      \n",
    "print('\\nUse cached items')\n",
    "make_call(1, 2)\n",
    "make_call(2, 3)\n",
    "      \n",
    "print('\\nCompute a new value, triggering cache expiration')\n",
    "make_call(3, 4)\n",
    "      \n",
    "print('\\nCache still contains one old item')\n",
    "make_call(2, 3)\n",
    "      \n",
    "print('\\nOldest item needs to be recomputed')\n",
    "make_call(1, 2)"
   ]
  },
  {
   "cell_type": "markdown",
   "metadata": {},
   "source": [
    "В этом примере размер кеша ограничен двумя записями. При использовании третьего наборауникальных аргументов (3,4) самая давняя из записей заменяется новым результатом."
   ]
  },
  {
   "cell_type": "markdown",
   "metadata": {},
   "source": [
    "Ключи для кеша, управляемого функцией __lru_cache()__, должны быть хешируемыми, и поэтому такими же должны быть аргументы, передаваемые функции, которая обернута кешем."
   ]
  },
  {
   "cell_type": "code",
   "execution_count": 14,
   "metadata": {},
   "outputs": [
    {
     "name": "stdout",
     "output_type": "stream",
     "text": [
      "(1, 2) called expensive(1, 2)\n",
      "([1], 2) ERROR: unhashable type: 'list'\n",
      "(1, {'2': 'two'}) ERROR: unhashable type: 'dict'\n"
     ]
    }
   ],
   "source": [
    "import functools\n",
    "\n",
    "\n",
    "@functools.lru_cache(maxsize=2)\n",
    "def expensive(a, b):\n",
    "    print('called expensive({}, {})'.format(a, b))\n",
    "    return a * b\n",
    "\n",
    "\n",
    "def make_call(a, b):\n",
    "    print('({}, {})'.format(a, b), end=' ')\n",
    "    pre_hits = expensive.cache_info().hits\n",
    "    expensive(a, b)\n",
    "    post_hits = expensive.cache_info().hits\n",
    "    if post_hits > pre_hits:\n",
    "        print('cache hit')\n",
    "\n",
    "\n",
    "make_call(1, 2)\n",
    "\n",
    "try:\n",
    "    make_call([1], 2)\n",
    "except TypeError as err:\n",
    "    print('ERROR: {}'.format(err))\n",
    "\n",
    "try:\n",
    "    make_call(1, {'2': 'two'})\n",
    "except TypeError as err:\n",
    "    print('ERROR: {}'.format(err))"
   ]
  },
  {
   "cell_type": "markdown",
   "metadata": {},
   "source": [
    "Если функции передается объект, который нельзя хешировать, возбуждается исключение __TypeError__."
   ]
  },
  {
   "cell_type": "markdown",
   "metadata": {},
   "source": [
    "## Редукция набора данных"
   ]
  },
  {
   "cell_type": "markdown",
   "metadata": {},
   "source": [
    "Функция __reduce()__ получает вызываемый объект и последовательность данных в качестве аргументов. Результатом ее работы является единственное значение, основанное на вызове объекта со значениями из последовательности и накоплении результатов."
   ]
  },
  {
   "cell_type": "code",
   "execution_count": 15,
   "metadata": {},
   "outputs": [
    {
     "name": "stdout",
     "output_type": "stream",
     "text": [
      "range(1, 5)\n",
      "do_reduce(1, 2)\n",
      "do_reduce(3, 3)\n",
      "do_reduce(6, 4)\n",
      "result: 10\n"
     ]
    }
   ],
   "source": [
    "import functools\n",
    "\n",
    "\n",
    "def do_reduce(a, b):\n",
    "    print('do_reduce({}, {})'.format(a, b))\n",
    "    return a + b\n",
    "\n",
    "\n",
    "data = range(1, 5)\n",
    "print(data)\n",
    "result = functools.reduce(do_reduce, data)\n",
    "print('result: {}'.format(result))"
   ]
  },
  {
   "cell_type": "markdown",
   "metadata": {},
   "source": [
    "В этом примере суммируются числа, образующие входную последовательность.\n",
    "\n",
    "Необязательный аргумент __initializer__ помещается перед последовательностью и обрабатывается наряду c другими элементами. Это может быть использовано для обновления ранее вычисленного значения новыми входными данными."
   ]
  },
  {
   "cell_type": "code",
   "execution_count": 7,
   "metadata": {},
   "outputs": [
    {
     "name": "stdout",
     "output_type": "stream",
     "text": [
      "range(1, 5)\n",
      "do_reduce(99, 1)\n",
      "do_reduce(100, 2)\n",
      "do_reduce(102, 3)\n",
      "do_reduce(105, 4)\n",
      "result: 109\n"
     ]
    }
   ],
   "source": [
    "import functools\n",
    "\n",
    "\n",
    "def do_reduce(a, b):\n",
    "    print('do_reduce({}, {})'.format(a, b))\n",
    "    return a + b\n",
    "\n",
    "\n",
    "data = range(1, 5)\n",
    "print(data)\n",
    "result = functools.reduce(do_reduce, data, 99)\n",
    "print('result: {}'.format(result))"
   ]
  },
  {
   "cell_type": "markdown",
   "metadata": {},
   "source": [
    "В этом примере ранее найденная сумма, равная 99, используется для инициализации значения, вычисляемого функцией __reduce()__.\n",
    "\n",
    "Последовательности c единственным элементом редуцируются до этого значения, если не предоставлен аргумент __initializer__. В отсутствие этого аргумента пустые списки генерируют ошибку."
   ]
  },
  {
   "cell_type": "code",
   "execution_count": 8,
   "metadata": {},
   "outputs": [
    {
     "name": "stdout",
     "output_type": "stream",
     "text": [
      "Single item in sequence: 1\n",
      "do_reduce(99, 1)\n",
      "Single item in sequence with initializer: 100\n",
      "Empty sequence with initializer: 99\n",
      "ERROR: reduce() of empty sequence with no initial value\n"
     ]
    }
   ],
   "source": [
    "import functools\n",
    "\n",
    "\n",
    "def do_reduce(a, b):\n",
    "    print('do_reduce({}, {})'.format(a, b))\n",
    "    return a + b\n",
    "\n",
    "\n",
    "print('Single item in sequence:',\n",
    "      functools.reduce(do_reduce, [1]))\n",
    "\n",
    "print('Single item in sequence with initializer:',\n",
    "      functools.reduce(do_reduce, [1], 99))\n",
    "\n",
    "print('Empty sequence with initializer:',\n",
    "      functools.reduce(do_reduce, [], 99))\n",
    "\n",
    "try:\n",
    "    print('Empty sequence:', functools.reduce(do_reduce, []))\n",
    "except TypeError as err:\n",
    "    print('ERROR: {}'.format(err))"
   ]
  },
  {
   "cell_type": "markdown",
   "metadata": {},
   "source": [
    "Поскольку аргумент __initializer__ выступает в качестве значения по умолчанию и при этом сочетается c новыми значениями, если входная последовательность не является пустой, очень важно тщательно проверять, используется ли он надлежащим образом. Если в сочетании значения по умолчанию c новыми значениями нет смысла, лучше перехватывать исключение __TypeError__, чем передавать аргумент __initializer__."
   ]
  },
  {
   "cell_type": "markdown",
   "metadata": {},
   "source": [
    "## Обобщенные функции"
   ]
  },
  {
   "cell_type": "markdown",
   "metadata": {},
   "source": [
    "В языках программирования c динамической типизацией, таких как ***Python***, часто возникает необходимость в изменении характера выполнения операций в зависимости от типа аргументов, особенно если речь идет о проведении различий между списком элементов и одиночным элементом. Непосредственная проверка типов не вызывает затруднений, однако в тех случаях, когда различия в поведении могут быть вынесены в отдельные функции, модуль __functools__ предоставляет декоратор __singledispatch()__, который обеспечивает регистрацию набора обобщенных функций c возможностью автоматического выбора нужной функции на основании типа первого аргумента."
   ]
  },
  {
   "cell_type": "code",
   "execution_count": 17,
   "metadata": {},
   "outputs": [
    {
     "name": "stdout",
     "output_type": "stream",
     "text": [
      "default myfunc('string argument')\n",
      "myfunc_int(1)\n",
      "default myfunc(2.3)\n",
      "myfunc_list()\n",
      "  a\n",
      "  b\n",
      "  c\n"
     ]
    }
   ],
   "source": [
    "import functools\n",
    "\n",
    "@functools.singledispatch\n",
    "def myfunc(arg):\n",
    "    print('default myfunc({!r})'.format(arg))\n",
    "\n",
    "\n",
    "@myfunc.register(int)\n",
    "def myfunc_int(arg):\n",
    "    print('myfunc_int({})'.format(arg))\n",
    "\n",
    "\n",
    "@myfunc.register(list)\n",
    "def myfunc_list(arg):\n",
    "    print('myfunc_list()')\n",
    "    for item in arg:\n",
    "        print('  {}'.format(item))\n",
    "\n",
    "\n",
    "myfunc('string argument')\n",
    "myfunc(1)\n",
    "myfunc(2.3)\n",
    "myfunc(['a', 'b', 'c'])"
   ]
  },
  {
   "cell_type": "markdown",
   "metadata": {},
   "source": [
    "Атрибут __register()__ новой функции служит дополнительным декоратором для регистрации альтернативной реализации. Первая функция, обернутая декоратором __singledispatch()__, является реализацией по умолчанию, если не обнаружена никакая другая функция, специфическая для данного типа, как в случае типа __float__ в этом примере.\n",
    "\n",
    "Если не удается найти точного соответствия типу, определяется порядок наследования и используется наиболее соответствующий тип."
   ]
  },
  {
   "cell_type": "code",
   "execution_count": 18,
   "metadata": {},
   "outputs": [
    {
     "name": "stdout",
     "output_type": "stream",
     "text": [
      "myfunc_A(A)\n",
      "myfunc_B(B)\n",
      "myfunc_C(C)\n",
      "myfunc_B(D)\n",
      "myfunc_C(E)\n"
     ]
    }
   ],
   "source": [
    "import functools\n",
    "\n",
    "\n",
    "class A:\n",
    "    pass\n",
    "\n",
    "\n",
    "class B(A):\n",
    "    pass\n",
    "\n",
    "\n",
    "class C(A):\n",
    "    pass\n",
    "\n",
    "\n",
    "class D(B):\n",
    "    pass\n",
    "\n",
    "\n",
    "class E(C, D):\n",
    "    pass\n",
    "\n",
    "\n",
    "@functools.singledispatch\n",
    "def myfunc(arg):\n",
    "    print('default myfunc({})'.format(arg.__class__.__name__))\n",
    "\n",
    "\n",
    "@myfunc.register(A)\n",
    "def myfunc_A(arg):\n",
    "    print('myfunc_A({})'.format(arg.__class__.__name__))\n",
    "\n",
    "\n",
    "@myfunc.register(B)\n",
    "def myfunc_B(arg):\n",
    "    print('myfunc_B({})'.format(arg.__class__.__name__))\n",
    "\n",
    "\n",
    "@myfunc.register(C)\n",
    "def myfunc_C(arg):\n",
    "    print('myfunc_C({})'.format(arg.__class__.__name__))\n",
    "\n",
    "\n",
    "myfunc(A())\n",
    "myfunc(B())\n",
    "myfunc(C())\n",
    "myfunc(D())\n",
    "myfunc(E())"
   ]
  },
  {
   "cell_type": "markdown",
   "metadata": {},
   "source": [
    "В этом примере для классов D и E не находится точного соответствия c какой-либо зарегистрированной обобщенной функцией, и выбор функции зависит от иерархии классов."
   ]
  },
  {
   "cell_type": "markdown",
   "metadata": {},
   "source": [
    "## Задания"
   ]
  },
  {
   "cell_type": "code",
   "execution_count": null,
   "metadata": {},
   "outputs": [],
   "source": []
  }
 ],
 "metadata": {
  "kernelspec": {
   "display_name": "Python 3",
   "language": "python",
   "name": "python3"
  },
  "language_info": {
   "codemirror_mode": {
    "name": "ipython",
    "version": 3
   },
   "file_extension": ".py",
   "mimetype": "text/x-python",
   "name": "python",
   "nbconvert_exporter": "python",
   "pygments_lexer": "ipython3",
   "version": "3.8.3"
  }
 },
 "nbformat": 4,
 "nbformat_minor": 4
}
